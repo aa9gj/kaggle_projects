{
 "cells": [
  {
   "cell_type": "code",
   "execution_count": 34,
   "id": "926057a4",
   "metadata": {},
   "outputs": [],
   "source": [
    "# Figure out where you are\n",
    "import os\n",
    "os.getcwd()\n",
    "\n",
    "import pandas as pd\n",
    "import numpy as np\n",
    "\n",
    "# Read in your files from Kaggle \n",
    "train_df = pd.read_csv('train.csv')\n",
    "test_df = pd.read_csv('test.csv')\n",
    "id_survived = pd.read_csv('gender_submission.csv')\n",
    "\n",
    "# Drop bad or uninformative columns\n",
    "train_df_use = train_df.drop(columns = ['Name', 'Ticket', 'Cabin'])\n",
    "test_df_use = test_df.drop(columns = ['Name', 'Ticket', 'Cabin'])\n",
    "\n",
    "# Check point\n",
    "train_df_use.head()\n",
    "test_df_use.head()\n",
    "\n",
    "# Reencode columns\n",
    "train_df_use['Sex'] = train_df_use['Sex'].map({'male':0, 'female':1})\n",
    "test_df_use['Sex'] = test_df_use['Sex'].map({'male':0, 'female':1})\n",
    "\n",
    "train_df_use['Embarked'] = train_df_use['Embarked'].map({'S':1, 'C':2, 'Q':3}).fillna(0)\n",
    "test_df_use['Embarked'] = test_df_use['Embarked'].map({'S':1, 'C':2, 'Q':3}).fillna(0)\n",
    "\n",
    "# Check point\n",
    "train_df_use['Embarked'].value_counts()[0] \n",
    "test_df_use['Embarked'].value_counts()[0]"
   ]
  },
  {
   "cell_type": "code",
   "execution_count": 35,
   "id": "67c44e75",
   "metadata": {},
   "outputs": [
    {
     "data": {
      "text/plain": [
       "2"
      ]
     },
     "execution_count": 35,
     "metadata": {},
     "output_type": "execute_result"
    }
   ],
   "source": [
    "# Remove NaN values and clean up\n",
    "train_df_use = train_df_use[train_df_use['Embarked'] != 0]\n",
    "train_df_use = train_df_use.dropna(subset=['Age'])\n",
    "test_df_use = pd.merge(id_survived, test_df_use, how = 'inner', on = 'PassengerId')\n",
    "test_df_use = test_df_use.dropna(subset=['Age', 'Fare'])\n",
    "X_test = test_df_use.drop(columns = ['Survived'])\n",
    "X_test = X_test.drop(columns = [\"Survived_y\"])\n",
    "X_test = X_test.drop(columns = [\"Survived_x\"])\n",
    "\n",
    "# Create X_train, y_train, X_test, y_test\n",
    "X_train = train_df_use.drop(columns = ['Survived'])\n",
    "y_train = train_df_use['Survived']\n",
    "X_test = test_df_use.drop(columns = ['Survived'])\n",
    "y_test = test_df_use['Survived']"
   ]
  },
  {
   "cell_type": "code",
   "execution_count": 95,
   "id": "444b834e",
   "metadata": {},
   "outputs": [],
   "source": [
    "# import all necessary machine learning algorithms \n",
    "from sklearn.linear_model import LogisticRegression\n",
    "from sklearn.metrics import accuracy_score\n",
    "from sklearn.ensemble import RandomForestClassifier\n",
    "from sklearn.svm import SVC\n",
    "from sklearn.neighbors import KNeighborsClassifier\n",
    "from sklearn.naive_bayes import GaussianNB\n",
    "from sklearn.ensemble import GradientBoostingClassifier\n",
    "from sklearn.metrics import accuracy_score\n",
    "\n",
    "classifiers = {\n",
    "    'Logistic Regression': LogisticRegression(max_iter=1000),\n",
    "    'Support Vector Machine': SVC(),\n",
    "    'Random Forest': RandomForestClassifier(),\n",
    "    'K-Nearest Neighbors': KNeighborsClassifier(),\n",
    "    'Naive Bayes': GaussianNB(),\n",
    "    'Gradient Boosting': GradientBoostingClassifier()\n",
    "}\n",
    "\n",
    "# Fit each classifier and evaluate the accuracy\n",
    "for name, clf in classifiers.items():\n",
    "    clf.fit(X_train, y_train)\n",
    "    y_pred = clf.predict(X_test)\n",
    "    accuracy = accuracy_score(y_test, y_pred)\n",
    "    print(f'{name} Accuracy: {accuracy:.2f}')"
   ]
  }
 ],
 "metadata": {
  "kernelspec": {
   "display_name": "Python 3 (ipykernel)",
   "language": "python",
   "name": "python3"
  },
  "language_info": {
   "codemirror_mode": {
    "name": "ipython",
    "version": 3
   },
   "file_extension": ".py",
   "mimetype": "text/x-python",
   "name": "python",
   "nbconvert_exporter": "python",
   "pygments_lexer": "ipython3",
   "version": "3.9.18"
  }
 },
 "nbformat": 4,
 "nbformat_minor": 5
}
